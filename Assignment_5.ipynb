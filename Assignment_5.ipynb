{
  "nbformat": 4,
  "nbformat_minor": 0,
  "metadata": {
    "colab": {
      "provenance": []
    },
    "kernelspec": {
      "name": "python3",
      "display_name": "Python 3"
    },
    "language_info": {
      "name": "python"
    }
  },
  "cells": [
    {
      "cell_type": "code",
      "execution_count": 1,
      "metadata": {
        "colab": {
          "base_uri": "https://localhost:8080/"
        },
        "id": "MgqlKrgfm35Q",
        "outputId": "d07e7fe8-9cb4-4299-9836-bb01696fecee"
      },
      "outputs": [
        {
          "output_type": "stream",
          "name": "stdout",
          "text": [
            "                                 antecedents  \\\n",
            "1812  (Survived=1, Fare=LowFare, Embarked=S)   \n",
            "1813                  (Sex=female, Pclass=2)   \n",
            "1805    (Fare=LowFare, Sex=female, Pclass=2)   \n",
            "1157                  (Sex=female, Pclass=2)   \n",
            "1152                (Survived=1, Embarked=S)   \n",
            "1820                (Survived=1, Embarked=S)   \n",
            "1810  (Fare=LowFare, Sex=female, Embarked=S)   \n",
            "1815                  (Survived=1, Pclass=2)   \n",
            "1154                  (Survived=1, Pclass=2)   \n",
            "1808    (Survived=1, Fare=LowFare, Pclass=2)   \n",
            "\n",
            "                                 consequents  antecedent support  \\\n",
            "1812                  (Sex=female, Pclass=2)            0.237935   \n",
            "1813  (Survived=1, Fare=LowFare, Embarked=S)            0.085297   \n",
            "1805                (Survived=1, Embarked=S)            0.085297   \n",
            "1157                (Survived=1, Embarked=S)            0.085297   \n",
            "1152                  (Sex=female, Pclass=2)            0.243547   \n",
            "1820    (Fare=LowFare, Sex=female, Pclass=2)            0.243547   \n",
            "1810                  (Survived=1, Pclass=2)            0.222222   \n",
            "1815  (Fare=LowFare, Sex=female, Embarked=S)            0.097643   \n",
            "1154                (Sex=female, Embarked=S)            0.097643   \n",
            "1808                (Sex=female, Embarked=S)            0.097643   \n",
            "\n",
            "      consequent support   support  confidence      lift  representativity  \\\n",
            "1812            0.085297  0.068462    0.287736  3.373324               1.0   \n",
            "1813            0.237935  0.068462    0.802632  3.373324               1.0   \n",
            "1805            0.243547  0.068462    0.802632  3.295598               1.0   \n",
            "1157            0.243547  0.068462    0.802632  3.295598               1.0   \n",
            "1152            0.085297  0.068462    0.281106  3.295598               1.0   \n",
            "1820            0.085297  0.068462    0.281106  3.295598               1.0   \n",
            "1810            0.097643  0.068462    0.308081  3.155172               1.0   \n",
            "1815            0.222222  0.068462    0.701149  3.155172               1.0   \n",
            "1154            0.227834  0.068462    0.701149  3.077459               1.0   \n",
            "1808            0.227834  0.068462    0.701149  3.077459               1.0   \n",
            "\n",
            "      leverage  conviction  zhangs_metric   jaccard  certainty  kulczynski  \n",
            "1812  0.048167    1.284218       0.923224  0.268722   0.221316    0.545184  \n",
            "1813  0.048167    3.861130       0.769164  0.268722   0.741008    0.545184  \n",
            "1805  0.047689    3.832697       0.761521  0.262931   0.739087    0.541869  \n",
            "1157  0.047689    3.832697       0.761521  0.262931   0.739087    0.541869  \n",
            "1152  0.047689    1.272375       0.920830  0.262931   0.214068    0.541869  \n",
            "1820  0.047689    1.272375       0.920830  0.262931   0.214068    0.541869  \n",
            "1810  0.046764    1.304136       0.878220  0.272321   0.233209    0.504615  \n",
            "1815  0.046764    2.602564       0.756973  0.272321   0.615764    0.504615  \n",
            "1154  0.046216    2.583787       0.748104  0.266376   0.612971    0.500821  \n",
            "1808  0.046216    2.583787       0.748104  0.266376   0.612971    0.500821  \n"
          ]
        },
        {
          "output_type": "stream",
          "name": "stderr",
          "text": [
            "/usr/local/lib/python3.11/dist-packages/mlxtend/frequent_patterns/fpcommon.py:161: DeprecationWarning: DataFrames with non-bool types result in worse computationalperformance and their support might be discontinued in the future.Please use a DataFrame with bool type\n",
            "  warnings.warn(\n"
          ]
        }
      ],
      "source": [
        "import pandas as pd\n",
        "from mlxtend.frequent_patterns import apriori, association_rules\n",
        "\n",
        "df = pd.read_csv(\"train.csv\")\n",
        "\n",
        "df_apriori = df[['Pclass', 'Sex', 'Age', 'Fare', 'Embarked', 'Survived']].copy()\n",
        "\n",
        "df_apriori['Age'] = pd.cut(df_apriori['Age'].fillna(df_apriori['Age'].median()), bins=3, labels=[\"Young\", \"Middle\", \"Old\"])\n",
        "df_apriori['Fare'] = pd.cut(df_apriori['Fare'], bins=3, labels=[\"LowFare\", \"MidFare\", \"HighFare\"])\n",
        "\n",
        "df_apriori['Embarked'] = df_apriori['Embarked'].fillna('Missing')\n",
        "\n",
        "for col in df_apriori.columns:\n",
        "    df_apriori[col] = col + '=' + df_apriori[col].astype(str)\n",
        "\n",
        "df_encoded = df_apriori.apply(lambda x: pd.Series(x)).stack().reset_index(drop=True)\n",
        "df_encoded = pd.DataFrame({'Item': df_encoded})\n",
        "df_encoded['Transaction'] = df_encoded.groupby(df_encoded.index // 6).ngroup()\n",
        "basket = df_encoded.pivot_table(index='Transaction', columns='Item', aggfunc=lambda x: 1, fill_value=0)\n",
        "\n",
        "frequent_itemsets = apriori(basket, min_support=0.05, use_colnames=True)\n",
        "\n",
        "rules = association_rules(frequent_itemsets, metric=\"lift\", min_threshold=1.0)\n",
        "\n",
        "\n",
        "print(rules.sort_values(by='lift', ascending=False).head(10))"
      ]
    }
  ]
}
